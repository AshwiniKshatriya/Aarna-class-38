{
  "nbformat": 4,
  "nbformat_minor": 0,
  "metadata": {
    "colab": {
      "provenance": [],
      "include_colab_link": true
    },
    "kernelspec": {
      "name": "python3",
      "display_name": "Python 3"
    },
    "language_info": {
      "name": "python"
    }
  },
  "cells": [
    {
      "cell_type": "markdown",
      "metadata": {
        "id": "view-in-github",
        "colab_type": "text"
      },
      "source": [
        "<a href=\"https://colab.research.google.com/github/AshwiniKshatriya/Aarna-class-38/blob/main/project_97.ipynb\" target=\"_parent\"><img src=\"https://colab.research.google.com/assets/colab-badge.svg\" alt=\"Open In Colab\"/></a>"
      ]
    },
    {
      "cell_type": "code",
      "execution_count": 2,
      "metadata": {
        "colab": {
          "base_uri": "https://localhost:8080/"
        },
        "id": "IbP_QEf0XLIT",
        "outputId": "350a6abe-31ad-476f-b35a-abcda8e7196e"
      },
      "outputs": [
        {
          "output_type": "stream",
          "name": "stdout",
          "text": [
            "Enter a year:2014\n",
            "It is not a leap year\n"
          ]
        }
      ],
      "source": [
        "year = int(input(\"Enter a year:\"))\n",
        "\n",
        "if(year % 4 == 0 and year % 100 != 0 or year % 400==0):\n",
        "         print(\"The year is a leap year!\")\n",
        "else:\n",
        "      print(\"It is not a leap year\")      \n",
        "\n",
        "\n"
      ]
    }
  ]
}