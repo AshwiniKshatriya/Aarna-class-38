{
  "nbformat": 4,
  "nbformat_minor": 0,
  "metadata": {
    "colab": {
      "provenance": [],
      "authorship_tag": "ABX9TyPo+PV7terIbnxz+LEeo6AO",
      "include_colab_link": true
    },
    "kernelspec": {
      "name": "python3",
      "display_name": "Python 3"
    },
    "language_info": {
      "name": "python"
    }
  },
  "cells": [
    {
      "cell_type": "markdown",
      "metadata": {
        "id": "view-in-github",
        "colab_type": "text"
      },
      "source": [
        "<a href=\"https://colab.research.google.com/github/AshwiniKshatriya/Aarna-class-38/blob/main/class_98_V2.ipynb\" target=\"_parent\"><img src=\"https://colab.research.google.com/assets/colab-badge.svg\" alt=\"Open In Colab\"/></a>"
      ]
    },
    {
      "cell_type": "markdown",
      "source": [
        "Sequence Data Type :\n",
        "\n",
        "list\n",
        "\n",
        "range()"
      ],
      "metadata": {
        "id": "ApZesfi-jeZt"
      }
    },
    {
      "cell_type": "markdown",
      "source": [
        "Declaring an Empty List"
      ],
      "metadata": {
        "id": "UZg3ejJujjnO"
      }
    },
    {
      "cell_type": "code",
      "source": [
        "list1 = []"
      ],
      "metadata": {
        "id": "aeJ9hpOKjr-h"
      },
      "execution_count": 1,
      "outputs": []
    },
    {
      "cell_type": "markdown",
      "source": [
        "A list of Numbers"
      ],
      "metadata": {
        "id": "bLjRTtswjy6Q"
      }
    },
    {
      "cell_type": "code",
      "source": [
        "list1 = [90, 95, 92, 97, 99]"
      ],
      "metadata": {
        "id": "P8UftMKuj6iR"
      },
      "execution_count": 2,
      "outputs": []
    },
    {
      "cell_type": "code",
      "source": [
        "print(list1)"
      ],
      "metadata": {
        "colab": {
          "base_uri": "https://localhost:8080/"
        },
        "id": "Sk7o_ZsWkDhV",
        "outputId": "4d1916cd-c49a-4fe0-dfe7-cced4fcb49c0"
      },
      "execution_count": 3,
      "outputs": [
        {
          "output_type": "stream",
          "name": "stdout",
          "text": [
            "[90, 95, 92, 97, 99]\n"
          ]
        }
      ]
    },
    {
      "cell_type": "markdown",
      "source": [
        "Checking Type"
      ],
      "metadata": {
        "id": "RF_46UHokNg6"
      }
    },
    {
      "cell_type": "code",
      "source": [
        "type(list1)"
      ],
      "metadata": {
        "colab": {
          "base_uri": "https://localhost:8080/"
        },
        "id": "GXj_4B3DkRl4",
        "outputId": "74ea0bcb-fa2f-4085-fb7e-dfc9d9439e69"
      },
      "execution_count": 4,
      "outputs": [
        {
          "output_type": "execute_result",
          "data": {
            "text/plain": [
              "list"
            ]
          },
          "metadata": {},
          "execution_count": 4
        }
      ]
    },
    {
      "cell_type": "markdown",
      "source": [
        "Length of a list"
      ],
      "metadata": {
        "id": "Ic84ZHZxkY1Y"
      }
    },
    {
      "cell_type": "code",
      "source": [
        "len(list1)"
      ],
      "metadata": {
        "colab": {
          "base_uri": "https://localhost:8080/"
        },
        "id": "kYq1-kR_kcK6",
        "outputId": "70b3d524-b652-45d7-c2fe-bef1be07f51a"
      },
      "execution_count": 5,
      "outputs": [
        {
          "output_type": "execute_result",
          "data": {
            "text/plain": [
              "5"
            ]
          },
          "metadata": {},
          "execution_count": 5
        }
      ]
    },
    {
      "cell_type": "markdown",
      "source": [
        "A list of Strings"
      ],
      "metadata": {
        "id": "HhhwnicikktA"
      }
    },
    {
      "cell_type": "code",
      "source": [
        "list2= [\"WhiteHatJr\", \"Coding\", \"Classes\"]"
      ],
      "metadata": {
        "id": "b-mKYwX2kpk0"
      },
      "execution_count": 6,
      "outputs": []
    },
    {
      "cell_type": "code",
      "source": [
        "len(list2)"
      ],
      "metadata": {
        "colab": {
          "base_uri": "https://localhost:8080/"
        },
        "id": "wd728ho4kusW",
        "outputId": "25be2dbf-0ba9-4a61-85f1-800480ae7e12"
      },
      "execution_count": 7,
      "outputs": [
        {
          "output_type": "execute_result",
          "data": {
            "text/plain": [
              "3"
            ]
          },
          "metadata": {},
          "execution_count": 7
        }
      ]
    },
    {
      "cell_type": "code",
      "source": [
        "list2"
      ],
      "metadata": {
        "colab": {
          "base_uri": "https://localhost:8080/"
        },
        "id": "70Yo93gzk0Kq",
        "outputId": "3e82021a-3fff-402a-c706-c5557cb2da99"
      },
      "execution_count": 8,
      "outputs": [
        {
          "output_type": "execute_result",
          "data": {
            "text/plain": [
              "['WhiteHatJr', 'Coding', 'Classes']"
            ]
          },
          "metadata": {},
          "execution_count": 8
        }
      ]
    },
    {
      "cell_type": "markdown",
      "source": [
        "**Indexing in List**\n",
        "\n",
        "positive index\n",
        "\n",
        "      starts from 0 at begining of the list\n",
        "\n",
        "negative index\n",
        "\n",
        "      starts from -1 at the end of the list"
      ],
      "metadata": {
        "id": "4Oe3pfQck7cZ"
      }
    },
    {
      "cell_type": "markdown",
      "source": [
        "**Index of an element**\n",
        "\n",
        "index() method can be used to get the index of an element from the begining of any list."
      ],
      "metadata": {
        "id": "KQ5umkZ5lLa9"
      }
    },
    {
      "cell_type": "code",
      "source": [
        "list1.index(95)"
      ],
      "metadata": {
        "colab": {
          "base_uri": "https://localhost:8080/"
        },
        "id": "8j2J2rBKlSxx",
        "outputId": "44b984a5-4c9d-46e3-ba71-831923180714"
      },
      "execution_count": 9,
      "outputs": [
        {
          "output_type": "execute_result",
          "data": {
            "text/plain": [
              "1"
            ]
          },
          "metadata": {},
          "execution_count": 9
        }
      ]
    },
    {
      "cell_type": "markdown",
      "source": [
        "Accessing list element using Positive Index"
      ],
      "metadata": {
        "id": "1JlqnKTmlY-Q"
      }
    },
    {
      "cell_type": "code",
      "source": [
        "list1[0]"
      ],
      "metadata": {
        "colab": {
          "base_uri": "https://localhost:8080/"
        },
        "id": "9bQt3etGldD2",
        "outputId": "f660056c-13ec-4861-bef8-b92b9cb336ba"
      },
      "execution_count": 10,
      "outputs": [
        {
          "output_type": "execute_result",
          "data": {
            "text/plain": [
              "90"
            ]
          },
          "metadata": {},
          "execution_count": 10
        }
      ]
    },
    {
      "cell_type": "code",
      "source": [
        "list2[0]"
      ],
      "metadata": {
        "colab": {
          "base_uri": "https://localhost:8080/",
          "height": 35
        },
        "id": "42BphRyjlikB",
        "outputId": "f190d5c9-a303-40aa-c821-c457dbdca196"
      },
      "execution_count": 11,
      "outputs": [
        {
          "output_type": "execute_result",
          "data": {
            "text/plain": [
              "'WhiteHatJr'"
            ],
            "application/vnd.google.colaboratory.intrinsic+json": {
              "type": "string"
            }
          },
          "metadata": {},
          "execution_count": 11
        }
      ]
    },
    {
      "cell_type": "markdown",
      "source": [
        "Accessing list element using Negative Index"
      ],
      "metadata": {
        "id": "7zSKR6qPlpvE"
      }
    },
    {
      "cell_type": "code",
      "source": [
        "list1[-1]"
      ],
      "metadata": {
        "colab": {
          "base_uri": "https://localhost:8080/"
        },
        "id": "bS0pH4iWluLa",
        "outputId": "9b33d048-680e-4d25-e051-681685743e40"
      },
      "execution_count": 12,
      "outputs": [
        {
          "output_type": "execute_result",
          "data": {
            "text/plain": [
              "99"
            ]
          },
          "metadata": {},
          "execution_count": 12
        }
      ]
    },
    {
      "cell_type": "code",
      "source": [
        "list2[-1]"
      ],
      "metadata": {
        "colab": {
          "base_uri": "https://localhost:8080/",
          "height": 35
        },
        "id": "Ds8yjiUJlzNX",
        "outputId": "27e6c754-a3dd-4996-faa7-db87a67a6564"
      },
      "execution_count": 13,
      "outputs": [
        {
          "output_type": "execute_result",
          "data": {
            "text/plain": [
              "'Classes'"
            ],
            "application/vnd.google.colaboratory.intrinsic+json": {
              "type": "string"
            }
          },
          "metadata": {},
          "execution_count": 13
        }
      ]
    },
    {
      "cell_type": "markdown",
      "source": [
        "**Accessing list element using Slice Operator**\n",
        "\n",
        "The slice operator(:) helps us to access the elements of the list within a range of specified index values."
      ],
      "metadata": {
        "id": "Qsj3vsG5l43G"
      }
    },
    {
      "cell_type": "code",
      "source": [
        "list1[0:2] "
      ],
      "metadata": {
        "colab": {
          "base_uri": "https://localhost:8080/"
        },
        "id": "oYsxVPYHmA4P",
        "outputId": "fe45e3dd-4541-4e1b-91b5-b59db13e8052"
      },
      "execution_count": 14,
      "outputs": [
        {
          "output_type": "execute_result",
          "data": {
            "text/plain": [
              "[90, 95]"
            ]
          },
          "metadata": {},
          "execution_count": 14
        }
      ]
    },
    {
      "cell_type": "code",
      "source": [
        "list2[0:2]"
      ],
      "metadata": {
        "colab": {
          "base_uri": "https://localhost:8080/"
        },
        "id": "C6WYHZWumQF9",
        "outputId": "159f8137-a437-4daf-af10-2411195e923e"
      },
      "execution_count": 15,
      "outputs": [
        {
          "output_type": "execute_result",
          "data": {
            "text/plain": [
              "['WhiteHatJr', 'Coding']"
            ]
          },
          "metadata": {},
          "execution_count": 15
        }
      ]
    },
    {
      "cell_type": "markdown",
      "source": [
        "**Note:** To get all the values of the list using slice operator we should specify the \"stop index\" one more than the length of the element."
      ],
      "metadata": {
        "id": "pKmJl3VAmfuQ"
      }
    },
    {
      "cell_type": "code",
      "source": [
        "list1[0:5]"
      ],
      "metadata": {
        "colab": {
          "base_uri": "https://localhost:8080/"
        },
        "id": "LkwRirPsmlLS",
        "outputId": "2695ce47-a5fb-422e-e51c-fdec77d5309d"
      },
      "execution_count": 16,
      "outputs": [
        {
          "output_type": "execute_result",
          "data": {
            "text/plain": [
              "[90, 95, 92, 97, 99]"
            ]
          },
          "metadata": {},
          "execution_count": 16
        }
      ]
    },
    {
      "cell_type": "code",
      "source": [
        "list2[0:3]"
      ],
      "metadata": {
        "colab": {
          "base_uri": "https://localhost:8080/"
        },
        "id": "AMYGFBREmpbZ",
        "outputId": "61c98a18-30d0-4588-f924-a7aa16e67be2"
      },
      "execution_count": 17,
      "outputs": [
        {
          "output_type": "execute_result",
          "data": {
            "text/plain": [
              "['WhiteHatJr', 'Coding', 'Classes']"
            ]
          },
          "metadata": {},
          "execution_count": 17
        }
      ]
    },
    {
      "cell_type": "markdown",
      "source": [
        "**Slice Operator With Negative Index**"
      ],
      "metadata": {
        "id": "hujmE2ccmysm"
      }
    },
    {
      "cell_type": "code",
      "source": [
        "list1[-5:-3]"
      ],
      "metadata": {
        "colab": {
          "base_uri": "https://localhost:8080/"
        },
        "id": "Som_VZLym4he",
        "outputId": "6a17e8ef-fe37-483d-b9db-90e75cf550d7"
      },
      "execution_count": 18,
      "outputs": [
        {
          "output_type": "execute_result",
          "data": {
            "text/plain": [
              "[90, 95]"
            ]
          },
          "metadata": {},
          "execution_count": 18
        }
      ]
    },
    {
      "cell_type": "code",
      "source": [
        "list1[1:3]"
      ],
      "metadata": {
        "colab": {
          "base_uri": "https://localhost:8080/"
        },
        "id": "UvhOfmRhm-3j",
        "outputId": "7f699488-a089-46be-c07d-72c0d38c9887"
      },
      "execution_count": 19,
      "outputs": [
        {
          "output_type": "execute_result",
          "data": {
            "text/plain": [
              "[95, 92]"
            ]
          },
          "metadata": {},
          "execution_count": 19
        }
      ]
    },
    {
      "cell_type": "code",
      "source": [
        "list1[-4:-2]"
      ],
      "metadata": {
        "colab": {
          "base_uri": "https://localhost:8080/"
        },
        "id": "oJnje8agnEo4",
        "outputId": "4a48a46c-974d-4593-ac18-5c443f6615a0"
      },
      "execution_count": 20,
      "outputs": [
        {
          "output_type": "execute_result",
          "data": {
            "text/plain": [
              "[95, 92]"
            ]
          },
          "metadata": {},
          "execution_count": 20
        }
      ]
    },
    {
      "cell_type": "markdown",
      "source": [
        "**For Loops**"
      ],
      "metadata": {
        "id": "-SLuMVGQnNR6"
      }
    },
    {
      "cell_type": "markdown",
      "source": [
        "**Syntax 1 :**\n",
        "\n",
        "\n",
        "for repetition_var in sequence:\n",
        "\n",
        "     statement 1\n",
        "     statement 2\n",
        "     .....\n",
        "     .....\n",
        "     .....\n",
        "     statement 10\n",
        "\n",
        "**Syntax 2 :**\n",
        "\n",
        "for repetition_var in range(start_val, end_val, steps):\n",
        "\n",
        "     statement 1\n",
        "     statement 2\n",
        "     .....\n",
        "     .....\n",
        "     .....\n",
        "     statement 10"
      ],
      "metadata": {
        "id": "_qhgA1R7nXkW"
      }
    },
    {
      "cell_type": "markdown",
      "source": [
        "**Keywords**:\n",
        "\n",
        " for : the \"for\" keyoword is used to mark the begining of the for loop\n",
        "\n",
        " in :\n",
        "\n",
        "**Variables:**\n",
        "\n",
        " repetition_var :\n",
        "\n",
        " sequence :"
      ],
      "metadata": {
        "id": "62iIVCrunuNy"
      }
    },
    {
      "cell_type": "markdown",
      "source": [
        "**Accessing list element using For Loop**"
      ],
      "metadata": {
        "id": "Te8qKH5KoBF_"
      }
    },
    {
      "cell_type": "code",
      "source": [
        "for elem in list1:\n",
        "  print(elem)"
      ],
      "metadata": {
        "colab": {
          "base_uri": "https://localhost:8080/"
        },
        "id": "9p4YSS-uoGmE",
        "outputId": "34d68bfa-a170-49f1-8f12-b256644f7b22"
      },
      "execution_count": 21,
      "outputs": [
        {
          "output_type": "stream",
          "name": "stdout",
          "text": [
            "90\n",
            "95\n",
            "92\n",
            "97\n",
            "99\n"
          ]
        }
      ]
    },
    {
      "cell_type": "code",
      "source": [
        "for elem in list2:\n",
        "  print(elem)"
      ],
      "metadata": {
        "colab": {
          "base_uri": "https://localhost:8080/"
        },
        "id": "s8IzDckfoL23",
        "outputId": "d575ab5a-73f2-4053-ba0a-eb86c39db930"
      },
      "execution_count": 22,
      "outputs": [
        {
          "output_type": "stream",
          "name": "stdout",
          "text": [
            "WhiteHatJr\n",
            "Coding\n",
            "Classes\n"
          ]
        }
      ]
    },
    {
      "cell_type": "markdown",
      "source": [
        "**Range of numbers**"
      ],
      "metadata": {
        "id": "rfETQGh5oRsk"
      }
    },
    {
      "cell_type": "code",
      "source": [
        "range(0,5)"
      ],
      "metadata": {
        "colab": {
          "base_uri": "https://localhost:8080/"
        },
        "id": "KY2t-2J9oWZF",
        "outputId": "b6228879-cdb7-46aa-cbc1-005a2d9b8925"
      },
      "execution_count": 23,
      "outputs": [
        {
          "output_type": "execute_result",
          "data": {
            "text/plain": [
              "range(0, 5)"
            ]
          },
          "metadata": {},
          "execution_count": 23
        }
      ]
    },
    {
      "cell_type": "code",
      "source": [
        "print(range(0,5))"
      ],
      "metadata": {
        "colab": {
          "base_uri": "https://localhost:8080/"
        },
        "id": "Psuj3uJuoaqg",
        "outputId": "9f34360d-cb06-4337-e9e7-aff5400b91b4"
      },
      "execution_count": 24,
      "outputs": [
        {
          "output_type": "stream",
          "name": "stdout",
          "text": [
            "range(0, 5)\n"
          ]
        }
      ]
    },
    {
      "cell_type": "code",
      "source": [
        "for i in range(0, 5):\n",
        "    print(i)"
      ],
      "metadata": {
        "colab": {
          "base_uri": "https://localhost:8080/"
        },
        "id": "wkMgYzYaof0m",
        "outputId": "529c3d2b-496a-4c90-cc53-8699fae8f242"
      },
      "execution_count": 25,
      "outputs": [
        {
          "output_type": "stream",
          "name": "stdout",
          "text": [
            "0\n",
            "1\n",
            "2\n",
            "3\n",
            "4\n"
          ]
        }
      ]
    },
    {
      "cell_type": "code",
      "source": [
        "for i in range(0, 5, 2):\n",
        "    print(i)"
      ],
      "metadata": {
        "colab": {
          "base_uri": "https://localhost:8080/"
        },
        "id": "84d-NTeLolHf",
        "outputId": "2ec5ae11-902f-47b7-b197-282ee226c647"
      },
      "execution_count": 26,
      "outputs": [
        {
          "output_type": "stream",
          "name": "stdout",
          "text": [
            "0\n",
            "2\n",
            "4\n"
          ]
        }
      ]
    },
    {
      "cell_type": "code",
      "source": [
        "for i in range(5, 0, -1):\n",
        "    print(i)"
      ],
      "metadata": {
        "colab": {
          "base_uri": "https://localhost:8080/"
        },
        "id": "foIZPRcGoriT",
        "outputId": "7e58f1d4-0976-4ef0-a2aa-88a691280af3"
      },
      "execution_count": 27,
      "outputs": [
        {
          "output_type": "stream",
          "name": "stdout",
          "text": [
            "5\n",
            "4\n",
            "3\n",
            "2\n",
            "1\n"
          ]
        }
      ]
    }
  ]
}