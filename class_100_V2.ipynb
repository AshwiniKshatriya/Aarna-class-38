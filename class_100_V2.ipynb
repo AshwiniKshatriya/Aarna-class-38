{
  "nbformat": 4,
  "nbformat_minor": 0,
  "metadata": {
    "colab": {
      "provenance": [],
      "authorship_tag": "ABX9TyPfZHmKGwn9RwF640AnJNFP",
      "include_colab_link": true
    },
    "kernelspec": {
      "name": "python3",
      "display_name": "Python 3"
    },
    "language_info": {
      "name": "python"
    }
  },
  "cells": [
    {
      "cell_type": "markdown",
      "metadata": {
        "id": "view-in-github",
        "colab_type": "text"
      },
      "source": [
        "<a href=\"https://colab.research.google.com/github/AshwiniKshatriya/Aarna-class-38/blob/main/class_100_V2.ipynb\" target=\"_parent\"><img src=\"https://colab.research.google.com/assets/colab-badge.svg\" alt=\"Open In Colab\"/></a>"
      ]
    },
    {
      "cell_type": "code",
      "source": [
        "name = \"Darsh\"\n",
        "type(name)"
      ],
      "metadata": {
        "colab": {
          "base_uri": "https://localhost:8080/"
        },
        "id": "K_tg6ez6Z0E6",
        "outputId": "0fc37301-8197-4c08-d54b-ed65d0e0289e"
      },
      "execution_count": 4,
      "outputs": [
        {
          "output_type": "execute_result",
          "data": {
            "text/plain": [
              "str"
            ]
          },
          "metadata": {},
          "execution_count": 4
        }
      ]
    },
    {
      "cell_type": "code",
      "source": [
        "info = [ ]\n",
        "type(info)"
      ],
      "metadata": {
        "colab": {
          "base_uri": "https://localhost:8080/"
        },
        "id": "qO0GYhh0Z4LU",
        "outputId": "4a529651-ff4e-407c-cbc2-0ca862454ffe"
      },
      "execution_count": 5,
      "outputs": [
        {
          "output_type": "execute_result",
          "data": {
            "text/plain": [
              "list"
            ]
          },
          "metadata": {},
          "execution_count": 5
        }
      ]
    },
    {
      "cell_type": "code",
      "source": [
        "person = {\n",
        "    \n",
        "}"
      ],
      "metadata": {
        "id": "A1_ocUXlZ8hU"
      },
      "execution_count": 6,
      "outputs": []
    },
    {
      "cell_type": "code",
      "source": [
        "type(person)"
      ],
      "metadata": {
        "colab": {
          "base_uri": "https://localhost:8080/"
        },
        "id": "KhrEz8osaCB9",
        "outputId": "f772fc6a-b831-44cb-eb3c-f5e9b5c424fc"
      },
      "execution_count": 7,
      "outputs": [
        {
          "output_type": "execute_result",
          "data": {
            "text/plain": [
              "dict"
            ]
          },
          "metadata": {},
          "execution_count": 7
        }
      ]
    },
    {
      "cell_type": "code",
      "source": [
        "person = {\n",
        "    \"name\": \"Darsh\",\n",
        "    \"mobile\" : 9029190909,\n",
        "    \"email\": \"dummy1email@gmail.com\",\n",
        "    \"address\": \"Sweet Home, Lane, City\"\n",
        "}"
      ],
      "metadata": {
        "id": "MPTsXsuKaGI5"
      },
      "execution_count": 8,
      "outputs": []
    },
    {
      "cell_type": "code",
      "source": [],
      "metadata": {
        "id": "ef4E7l82aLZP"
      },
      "execution_count": null,
      "outputs": []
    },
    {
      "cell_type": "code",
      "source": [
        "print(person[\"name\"])"
      ],
      "metadata": {
        "colab": {
          "base_uri": "https://localhost:8080/"
        },
        "id": "U-P4A49VaLiq",
        "outputId": "65a9037e-2db0-4b67-e6d8-894a36ff7c8c"
      },
      "execution_count": 9,
      "outputs": [
        {
          "output_type": "stream",
          "name": "stdout",
          "text": [
            "Darsh\n"
          ]
        }
      ]
    },
    {
      "cell_type": "markdown",
      "source": [
        "**CLASSES & OBJECTS IN PYTHON**"
      ],
      "metadata": {
        "id": "O9_oeNNTaT83"
      }
    },
    {
      "cell_type": "markdown",
      "source": [
        "Syntax 1 :\n",
        "\n",
        "class ClassName:\n",
        "\n",
        "    def __init__(self, attribute1, attribute2):\n",
        "      statement(s)\n",
        "\n",
        "    def method_1():\n",
        "      statement(s)\n",
        "\n",
        "    .......\n",
        "    .......\n",
        "    .......\n",
        "\n",
        "    def method_10(parameter1, parameter2):\n",
        "      statement(s)\n",
        "\n",
        "    .......\n",
        "\n",
        "    def method(parameter(s)):\n",
        "      statement(s)"
      ],
      "metadata": {
        "id": "T3E9xEGeai7h"
      }
    },
    {
      "cell_type": "code",
      "source": [
        "# Define Class\n",
        "class Contact_Details:\n",
        "\n",
        "    def __init__(self, name, mobile_number, email, address):\n",
        "        self.contact_name = name\n",
        "        self.contact_number = mobile_number\n",
        "        self.email = email\n",
        "        self.contact_address = address\n",
        "\n",
        "        # Make a dictionary of the contact details \n",
        "        self.person = {\n",
        "            \"name\": self.contact_name,\n",
        "            \"mobile\" : self.contact_number,\n",
        "            \"email\": self.email,\n",
        "            \"address\": self.contact_address\n",
        "        } \n",
        "\n",
        "    # Define the Methods of the class\n",
        "    \n",
        "    # View All Contact Details\n",
        "    def view_contact_details(self, contact_list):\n",
        "      print(contact_list)\n",
        "      \n",
        "\n",
        "    # Add the contact details to the list    \n",
        "    def add_contact_details(self, contact_list):\n",
        "      contact_list.append(self.person)"
      ],
      "metadata": {
        "id": "fi5SEbe0ak13"
      },
      "execution_count": 11,
      "outputs": []
    },
    {
      "cell_type": "code",
      "source": [
        "# new_contact = Contact_Details()  #This will throw an as arguments are not given."
      ],
      "metadata": {
        "id": "5jXf9t5oauf_"
      },
      "execution_count": 12,
      "outputs": []
    },
    {
      "cell_type": "markdown",
      "source": [
        "**Create Objects**"
      ],
      "metadata": {
        "id": "IBz08NSpa8Sx"
      }
    },
    {
      "cell_type": "code",
      "source": [
        "new_contact = Contact_Details('Preeti',8956478556,'preeti_dummy1@gmail.com', 'Delhi , India')\n",
        "\n",
        "print(new_contact)"
      ],
      "metadata": {
        "colab": {
          "base_uri": "https://localhost:8080/"
        },
        "id": "t0BPnMAFa-9C",
        "outputId": "2a318c36-c9b7-4c34-edbb-639452e630ae"
      },
      "execution_count": 13,
      "outputs": [
        {
          "output_type": "stream",
          "name": "stdout",
          "text": [
            "<__main__.Contact_Details object at 0x7f7d437bd460>\n"
          ]
        }
      ]
    },
    {
      "cell_type": "markdown",
      "source": [
        "Accessing Class Methods\n",
        "\n",
        "We can access the methods of the class using the object and do operator!\n",
        "\n",
        "<object_name.method_name>"
      ],
      "metadata": {
        "id": "sHpC6B--bHuh"
      }
    },
    {
      "cell_type": "markdown",
      "source": [
        "\n",
        "**Phonebook: The List of Contact Details**"
      ],
      "metadata": {
        "id": "1ui64RLfbZnI"
      }
    },
    {
      "cell_type": "code",
      "source": [
        "phonebook_list=[]"
      ],
      "metadata": {
        "id": "_Yxj-cbZbfbl"
      },
      "execution_count": 14,
      "outputs": []
    },
    {
      "cell_type": "code",
      "source": [
        "new_contact = Contact_Details('Preeti',8956478556,'preeti_dummy1@gmail.com', 'Delhi , India')"
      ],
      "metadata": {
        "id": "mkycqlFHbnS2"
      },
      "execution_count": 15,
      "outputs": []
    },
    {
      "cell_type": "markdown",
      "source": [
        "Add the Contact Details to the Phonebook List"
      ],
      "metadata": {
        "id": "T0hY-r3zbwf2"
      }
    },
    {
      "cell_type": "code",
      "source": [
        "new_contact.add_contact_details(phonebook_list)"
      ],
      "metadata": {
        "id": "7pxNzOZCbyPV"
      },
      "execution_count": 16,
      "outputs": []
    },
    {
      "cell_type": "markdown",
      "source": [
        "**View Contact Details After Adding to the Phonebook List**"
      ],
      "metadata": {
        "id": "Riv9ryLmb5gm"
      }
    },
    {
      "cell_type": "code",
      "source": [
        "new_contact.view_contact_details(phonebook_list)"
      ],
      "metadata": {
        "colab": {
          "base_uri": "https://localhost:8080/"
        },
        "id": "v7LrmgMhcBjH",
        "outputId": "e9f87894-f23d-459f-d0fe-8b83f0c01af6"
      },
      "execution_count": 17,
      "outputs": [
        {
          "output_type": "stream",
          "name": "stdout",
          "text": [
            "[{'name': 'Preeti', 'mobile': 8956478556, 'email': 'preeti_dummy1@gmail.com', 'address': 'Delhi , India'}]\n"
          ]
        }
      ]
    },
    {
      "cell_type": "markdown",
      "source": [
        "Adding Second Person's Contact Details in the Phonebook List"
      ],
      "metadata": {
        "id": "q4yNuKSUcGiN"
      }
    },
    {
      "cell_type": "code",
      "source": [
        "# Create the object with new values\n",
        "new_contact = Contact_Details('Shean',8956476333,'shean_dummy1@gmail.com', 'California , USA')\n",
        "\n",
        "# Add details\n",
        "new_contact.add_contact_details(phonebook_list)\n",
        "\n",
        "# View details\n",
        "new_contact.view_contact_details(phonebook_list)"
      ],
      "metadata": {
        "colab": {
          "base_uri": "https://localhost:8080/"
        },
        "id": "mnhs9RSWcHse",
        "outputId": "9d994ee1-5845-4b39-c44a-329106773065"
      },
      "execution_count": 18,
      "outputs": [
        {
          "output_type": "stream",
          "name": "stdout",
          "text": [
            "[{'name': 'Preeti', 'mobile': 8956478556, 'email': 'preeti_dummy1@gmail.com', 'address': 'Delhi , India'}, {'name': 'Shean', 'mobile': 8956476333, 'email': 'shean_dummy1@gmail.com', 'address': 'California , USA'}]\n"
          ]
        }
      ]
    }
  ]
}